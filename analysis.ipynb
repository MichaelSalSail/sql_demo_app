{
 "cells": [
  {
   "cell_type": "code",
   "execution_count": 1,
   "metadata": {},
   "outputs": [],
   "source": [
    "import sqlalchemy as db\n",
    "import pandas as pd"
   ]
  },
  {
   "cell_type": "code",
   "execution_count": 2,
   "metadata": {},
   "outputs": [],
   "source": [
    "sqlite_URL='sqlite:///database.db'\n",
    "engine = db.create_engine(sqlite_URL)\n",
    "connection = engine.connect()\n",
    "metadata = db.MetaData()\n",
    "students = db.Table('Student', metadata, autoload_with=engine)"
   ]
  },
  {
   "cell_type": "code",
   "execution_count": 3,
   "metadata": {},
   "outputs": [
    {
     "name": "stdout",
     "output_type": "stream",
     "text": [
      "['id', 'firstname', 'lastname', 'email', 'age', 'created_at', 'bio']\n"
     ]
    }
   ],
   "source": [
    "# Print the column names\n",
    "print(students.columns.keys())"
   ]
  },
  {
   "cell_type": "code",
   "execution_count": 4,
   "metadata": {},
   "outputs": [
    {
     "name": "stdout",
     "output_type": "stream",
     "text": [
      "Table('Student', MetaData(), Column('id', INTEGER(), table=<Student>, nullable=False), Column('firstname', VARCHAR(length=100), table=<Student>, nullable=False), Column('lastname', VARCHAR(length=100), table=<Student>, nullable=False), Column('email', VARCHAR(length=80), table=<Student>, nullable=False), Column('age', INTEGER(), table=<Student>), Column('created_at', DATETIME(), table=<Student>, server_default=DefaultClause(<sqlalchemy.sql.elements.TextClause object at 0x00000210B2CCC850>, for_update=False)), Column('bio', TEXT(), table=<Student>), schema=None)\n"
     ]
    }
   ],
   "source": [
    "# Print full table metadata\n",
    "print(repr(metadata.tables['Student']))"
   ]
  },
  {
   "cell_type": "code",
   "execution_count": 5,
   "metadata": {},
   "outputs": [
    {
     "data": {
      "text/plain": [
       "[(1, 'john', 'doe', 'john_doe@example.com', 23, datetime.datetime(2023, 6, 20, 21, 32, 13), 'Biology student... might change major?'),\n",
       " (2, 'Sammy', 'Shark', 'sammyshark@example.com', 20, datetime.datetime(2023, 6, 20, 21, 54, 17), 'Marine biology student'),\n",
       " (3, 'Carl', 'White', 'carlwhite@example.com', 22, datetime.datetime(2023, 6, 20, 21, 54, 17), 'Marine geology student'),\n",
       " (4, 'Seal', 'Davis', 'thaiisdavis@yahoo.com', 22, datetime.datetime(2023, 6, 21, 1, 38, 5), 'Ihave terrible grades :)')]"
      ]
     },
     "execution_count": 5,
     "metadata": {},
     "output_type": "execute_result"
    }
   ],
   "source": [
    "# Equivalent to 'SELECT * FROM Student'\n",
    "query = db.select(students)\n",
    "ResultProxy = connection.execute(query)\n",
    "ResultSet = ResultProxy.fetchall()\n",
    "ResultSet"
   ]
  },
  {
   "cell_type": "code",
   "execution_count": 6,
   "metadata": {},
   "outputs": [
    {
     "data": {
      "text/html": [
       "<div>\n",
       "<style scoped>\n",
       "    .dataframe tbody tr th:only-of-type {\n",
       "        vertical-align: middle;\n",
       "    }\n",
       "\n",
       "    .dataframe tbody tr th {\n",
       "        vertical-align: top;\n",
       "    }\n",
       "\n",
       "    .dataframe thead th {\n",
       "        text-align: right;\n",
       "    }\n",
       "</style>\n",
       "<table border=\"1\" class=\"dataframe\">\n",
       "  <thead>\n",
       "    <tr style=\"text-align: right;\">\n",
       "      <th></th>\n",
       "      <th>id</th>\n",
       "      <th>firstname</th>\n",
       "      <th>lastname</th>\n",
       "      <th>email</th>\n",
       "      <th>age</th>\n",
       "      <th>created_at</th>\n",
       "      <th>bio</th>\n",
       "    </tr>\n",
       "  </thead>\n",
       "  <tbody>\n",
       "    <tr>\n",
       "      <th>0</th>\n",
       "      <td>1</td>\n",
       "      <td>john</td>\n",
       "      <td>doe</td>\n",
       "      <td>john_doe@example.com</td>\n",
       "      <td>23</td>\n",
       "      <td>2023-06-20 21:32:13</td>\n",
       "      <td>Biology student... might change major?</td>\n",
       "    </tr>\n",
       "    <tr>\n",
       "      <th>1</th>\n",
       "      <td>2</td>\n",
       "      <td>Sammy</td>\n",
       "      <td>Shark</td>\n",
       "      <td>sammyshark@example.com</td>\n",
       "      <td>20</td>\n",
       "      <td>2023-06-20 21:54:17</td>\n",
       "      <td>Marine biology student</td>\n",
       "    </tr>\n",
       "    <tr>\n",
       "      <th>2</th>\n",
       "      <td>3</td>\n",
       "      <td>Carl</td>\n",
       "      <td>White</td>\n",
       "      <td>carlwhite@example.com</td>\n",
       "      <td>22</td>\n",
       "      <td>2023-06-20 21:54:17</td>\n",
       "      <td>Marine geology student</td>\n",
       "    </tr>\n",
       "    <tr>\n",
       "      <th>3</th>\n",
       "      <td>4</td>\n",
       "      <td>Seal</td>\n",
       "      <td>Davis</td>\n",
       "      <td>thaiisdavis@yahoo.com</td>\n",
       "      <td>22</td>\n",
       "      <td>2023-06-21 01:38:05</td>\n",
       "      <td>Ihave terrible grades :)</td>\n",
       "    </tr>\n",
       "  </tbody>\n",
       "</table>\n",
       "</div>"
      ],
      "text/plain": [
       "   id firstname lastname                   email  age          created_at  \\\n",
       "0   1      john      doe    john_doe@example.com   23 2023-06-20 21:32:13   \n",
       "1   2     Sammy    Shark  sammyshark@example.com   20 2023-06-20 21:54:17   \n",
       "2   3      Carl    White   carlwhite@example.com   22 2023-06-20 21:54:17   \n",
       "3   4      Seal    Davis   thaiisdavis@yahoo.com   22 2023-06-21 01:38:05   \n",
       "\n",
       "                                      bio  \n",
       "0  Biology student... might change major?  \n",
       "1                  Marine biology student  \n",
       "2                  Marine geology student  \n",
       "3                Ihave terrible grades :)  "
      ]
     },
     "execution_count": 6,
     "metadata": {},
     "output_type": "execute_result"
    }
   ],
   "source": [
    "# Read Student table as a dataframe\n",
    "students_df = pd.DataFrame(ResultSet)\n",
    "students_df.columns = students.columns.keys()\n",
    "students_df"
   ]
  },
  {
   "cell_type": "code",
   "execution_count": 9,
   "metadata": {},
   "outputs": [
    {
     "data": {
      "text/plain": [
       "[(3, 'Carl', 'White', 'carlwhite@example.com', 22, datetime.datetime(2023, 6, 20, 21, 54, 17), 'Marine geology student'),\n",
       " (4, 'Seal', 'Davis', 'thaiisdavis@yahoo.com', 22, datetime.datetime(2023, 6, 21, 1, 38, 5), 'Ihave terrible grades :)')]"
      ]
     },
     "execution_count": 9,
     "metadata": {},
     "output_type": "execute_result"
    }
   ],
   "source": [
    "# SQL query: SELECT * FROM Student WHERE age=22\n",
    "query = db.select(students).where(students.columns.age==22)\n",
    "ResultProxy = connection.execute(query)\n",
    "ResultSet = ResultProxy.fetchall()\n",
    "ResultSet"
   ]
  },
  {
   "cell_type": "code",
   "execution_count": 16,
   "metadata": {},
   "outputs": [
    {
     "data": {
      "text/plain": [
       "[('john_doe@example.com', 23), ('sammyshark@example.com', 20)]"
      ]
     },
     "execution_count": 16,
     "metadata": {},
     "output_type": "execute_result"
    }
   ],
   "source": [
    "# SQL query: SELECT email, age FROM Student WHERE age in (20,23)\n",
    "query = db.select(students.columns.email, students.columns.age).where(students.columns.age.in_([20,23]))\n",
    "ResultProxy = connection.execute(query)\n",
    "ResultSet = ResultProxy.fetchall()\n",
    "ResultSet"
   ]
  },
  {
   "cell_type": "code",
   "execution_count": 17,
   "metadata": {},
   "outputs": [
    {
     "data": {
      "text/plain": [
       "[(2, 'Sammy', 'Shark', 'sammyshark@example.com', 20, datetime.datetime(2023, 6, 20, 21, 54, 17), 'Marine biology student')]"
      ]
     },
     "execution_count": 17,
     "metadata": {},
     "output_type": "execute_result"
    }
   ],
   "source": [
    "# SQL query: SELECT * FROM Student WHERE id<3 AND NOT age=23\n",
    "query = db.select(students).where(db.and_(students.columns.id<3, students.columns.age!=23))\n",
    "ResultProxy = connection.execute(query)\n",
    "ResultSet = ResultProxy.fetchall()\n",
    "ResultSet"
   ]
  },
  {
   "cell_type": "code",
   "execution_count": 18,
   "metadata": {},
   "outputs": [
    {
     "data": {
      "text/plain": [
       "[(1, 'john', 'doe', 'john_doe@example.com', 23, datetime.datetime(2023, 6, 20, 21, 32, 13), 'Biology student... might change major?'),\n",
       " (3, 'Carl', 'White', 'carlwhite@example.com', 22, datetime.datetime(2023, 6, 20, 21, 54, 17), 'Marine geology student'),\n",
       " (4, 'Seal', 'Davis', 'thaiisdavis@yahoo.com', 22, datetime.datetime(2023, 6, 21, 1, 38, 5), 'Ihave terrible grades :)'),\n",
       " (2, 'Sammy', 'Shark', 'sammyshark@example.com', 20, datetime.datetime(2023, 6, 20, 21, 54, 17), 'Marine biology student')]"
      ]
     },
     "execution_count": 18,
     "metadata": {},
     "output_type": "execute_result"
    }
   ],
   "source": [
    "# SQL query: SELECT * FROM Student ORDER BY age DESC\n",
    "query = db.select(students).order_by(db.desc(students.columns.age))\n",
    "ResultProxy = connection.execute(query)\n",
    "ResultSet = ResultProxy.fetchall()\n",
    "ResultSet"
   ]
  },
  {
   "cell_type": "code",
   "execution_count": 19,
   "metadata": {},
   "outputs": [
    {
     "data": {
      "text/plain": [
       "[(87,)]"
      ]
     },
     "execution_count": 19,
     "metadata": {},
     "output_type": "execute_result"
    }
   ],
   "source": [
    "# SQL query: SELECT SUM(age) FROM Student\n",
    "query = db.select(db.func.sum(students.columns.age))\n",
    "ResultProxy = connection.execute(query)\n",
    "ResultSet = ResultProxy.fetchall()\n",
    "ResultSet"
   ]
  },
  {
   "cell_type": "code",
   "execution_count": 20,
   "metadata": {},
   "outputs": [
    {
     "data": {
      "text/plain": [
       "[(23.0, datetime.datetime(2023, 6, 20, 21, 32, 13)),\n",
       " (21.0, datetime.datetime(2023, 6, 20, 21, 54, 17)),\n",
       " (22.0, datetime.datetime(2023, 6, 21, 1, 38, 5))]"
      ]
     },
     "execution_count": 20,
     "metadata": {},
     "output_type": "execute_result"
    }
   ],
   "source": [
    "# SQL query: SELECT created_at,AVG(age) FROM Student GROUP BY created_at\n",
    "query = db.select(db.func.avg(students.columns.age).label('age'),students.columns.created_at).group_by(students.columns.created_at)\n",
    "ResultProxy = connection.execute(query)\n",
    "ResultSet = ResultProxy.fetchall()\n",
    "ResultSet"
   ]
  }
 ],
 "metadata": {
  "kernelspec": {
   "display_name": "Python 3",
   "language": "python",
   "name": "python3"
  },
  "language_info": {
   "codemirror_mode": {
    "name": "ipython",
    "version": 3
   },
   "file_extension": ".py",
   "mimetype": "text/x-python",
   "name": "python",
   "nbconvert_exporter": "python",
   "pygments_lexer": "ipython3",
   "version": "3.9.13"
  },
  "orig_nbformat": 4
 },
 "nbformat": 4,
 "nbformat_minor": 2
}
