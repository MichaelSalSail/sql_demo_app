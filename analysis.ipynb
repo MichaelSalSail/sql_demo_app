{
 "cells": [
  {
   "cell_type": "code",
   "execution_count": 60,
   "metadata": {},
   "outputs": [],
   "source": [
    "import sqlalchemy as db"
   ]
  },
  {
   "cell_type": "code",
   "execution_count": 61,
   "metadata": {},
   "outputs": [],
   "source": [
    "sqlite_URL='sqlite:///database.db'\n",
    "engine = db.create_engine(sqlite_URL)\n",
    "connection = engine.connect()\n",
    "metadata = db.MetaData()\n",
    "students = db.Table('Student', metadata, autoload_with=engine)"
   ]
  },
  {
   "cell_type": "code",
   "execution_count": 62,
   "metadata": {},
   "outputs": [
    {
     "name": "stdout",
     "output_type": "stream",
     "text": [
      "['id', 'firstname', 'lastname', 'email', 'age', 'created_at', 'bio']\n"
     ]
    }
   ],
   "source": [
    "# Print the column names\n",
    "print(students.columns.keys())"
   ]
  },
  {
   "cell_type": "code",
   "execution_count": 63,
   "metadata": {},
   "outputs": [
    {
     "name": "stdout",
     "output_type": "stream",
     "text": [
      "Table('Student', MetaData(), Column('id', INTEGER(), table=<Student>, nullable=False), Column('firstname', VARCHAR(length=100), table=<Student>, nullable=False), Column('lastname', VARCHAR(length=100), table=<Student>, nullable=False), Column('email', VARCHAR(length=80), table=<Student>, nullable=False), Column('age', INTEGER(), table=<Student>), Column('created_at', DATETIME(), table=<Student>, server_default=DefaultClause(<sqlalchemy.sql.elements.TextClause object at 0x000001D71A1BE820>, for_update=False)), Column('bio', TEXT(), table=<Student>), schema=None)\n"
     ]
    }
   ],
   "source": [
    "# Print full table metadata\n",
    "print(repr(metadata.tables['Student']))"
   ]
  }
 ],
 "metadata": {
  "kernelspec": {
   "display_name": "Python 3",
   "language": "python",
   "name": "python3"
  },
  "language_info": {
   "codemirror_mode": {
    "name": "ipython",
    "version": 3
   },
   "file_extension": ".py",
   "mimetype": "text/x-python",
   "name": "python",
   "nbconvert_exporter": "python",
   "pygments_lexer": "ipython3",
   "version": "3.9.13"
  },
  "orig_nbformat": 4
 },
 "nbformat": 4,
 "nbformat_minor": 2
}
